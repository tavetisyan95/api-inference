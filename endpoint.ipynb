{
 "cells": [
  {
   "cell_type": "markdown",
   "id": "1b0ae15a-b9de-4e11-9d2f-b5e6374c88f7",
   "metadata": {},
   "source": [
    "### Performing predictions through our app"
   ]
  },
  {
   "cell_type": "code",
   "execution_count": 1,
   "id": "91f42c5c-ee0e-42c3-8f41-27da1320890a",
   "metadata": {
    "tags": []
   },
   "outputs": [],
   "source": [
    "# Importing the requests library for handling HTTP requests\n",
    "import requests\n",
    "\n",
    "# Declaring our endpoint and payload\n",
    "url = \"http://127.0.0.1:5000/inference\"\n",
    "data = {\"Sequences\": \"What a terrible day!\"}\n",
    "\n",
    "# Defining our query function\n",
    "def query(url, payload):\n",
    "    return requests.get(url, json=payload)"
   ]
  },
  {
   "cell_type": "code",
   "execution_count": 2,
   "id": "6dbceac0-9cc0-47c5-a0a2-50c609eba57a",
   "metadata": {},
   "outputs": [
    {
     "name": "stdout",
     "output_type": "stream",
     "text": [
      "{'Predictions': ['sadness']}\n"
     ]
    }
   ],
   "source": [
    "# Sending a GET request and obtaining the results\n",
    "response = query(url, data)\n",
    "\n",
    "# Inspecting the response\n",
    "print(response.json())"
   ]
  },
  {
   "cell_type": "code",
   "execution_count": 3,
   "id": "ac2cc4a8-f1a9-44d3-b791-78ff62e7285d",
   "metadata": {},
   "outputs": [
    {
     "name": "stdout",
     "output_type": "stream",
     "text": [
      "{'Predictions': ['sadness', 'joy']}\n"
     ]
    }
   ],
   "source": [
    "# Creating a batch of sequences\n",
    "data = {\"Sequences\": [\"What a terrible day!\", \"What a great day!\"]}\n",
    "\n",
    "# Sending a GET request and obtaining the results\n",
    "response = query(url, data)\n",
    "\n",
    "\n",
    "# Inspecting the response\n",
    "print(response.json())"
   ]
  }
 ],
 "metadata": {
  "kernelspec": {
   "display_name": "Python 3",
   "language": "python",
   "name": "python3"
  },
  "language_info": {
   "codemirror_mode": {
    "name": "ipython",
    "version": 3
   },
   "file_extension": ".py",
   "mimetype": "text/x-python",
   "name": "python",
   "nbconvert_exporter": "python",
   "pygments_lexer": "ipython3",
   "version": "3.9.5"
  }
 },
 "nbformat": 4,
 "nbformat_minor": 5
}
